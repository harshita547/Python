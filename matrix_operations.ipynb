{
  "cells": [
    {
      "cell_type": "markdown",
      "metadata": {
        "id": "view-in-github",
        "colab_type": "text"
      },
      "source": [
        "<a href=\"https://colab.research.google.com/github/harshita547/Python/blob/main/matrix_operations.ipynb\" target=\"_parent\"><img src=\"https://colab.research.google.com/assets/colab-badge.svg\" alt=\"Open In Colab\"/></a>"
      ]
    },
    {
      "cell_type": "code",
      "execution_count": null,
      "metadata": {
        "colab": {
          "base_uri": "https://localhost:8080/"
        },
        "id": "yzFfDCd6De5j",
        "outputId": "2bed8e23-56d9-4f6e-e952-aea6cb1575ae"
      },
      "outputs": [
        {
          "output_type": "stream",
          "name": "stdout",
          "text": [
            "Matrix Operations Tool\n",
            "\n",
            "Enter the dimensions of Matrix A (rows columns): \n",
            "2 2\n",
            "Enter the elements of Matrix A row-wise (space separated):\n",
            "1 5 8 7\n",
            "\n",
            "Select operation:\n",
            "1. Addition (A + B)\n",
            "2. Subtraction (A - B)\n",
            "3. Multiplication (A * B)\n",
            "4. Transpose (A^T)\n",
            "5. Determinant (det(A))\n",
            "6. Exit\n",
            "Enter choice (1-6): 1\n",
            "Enter the dimensions of Matrix B (rows columns): \n",
            "2 2\n",
            "Enter the elements of Matrix B row-wise (space separated):\n",
            "3 5 6 1\n",
            "\n",
            "A + B:\n",
            "[[ 4. 10.]\n",
            " [14.  8.]]\n",
            "\n",
            "Select operation:\n",
            "1. Addition (A + B)\n",
            "2. Subtraction (A - B)\n",
            "3. Multiplication (A * B)\n",
            "4. Transpose (A^T)\n",
            "5. Determinant (det(A))\n",
            "6. Exit\n",
            "Enter choice (1-6): 6\n",
            "Exiting... Goodbye!\n"
          ]
        }
      ],
      "source": [
        "import numpy as np\n",
        "\n",
        "def input_matrix(name=\"Matrix\"):\n",
        "    while True:\n",
        "        try:\n",
        "            print(f\"Enter the dimensions of {name} (rows columns): \")\n",
        "            rows, cols = map(int, input().split())\n",
        "            print(f\"Enter the elements of {name} row-wise (space separated):\")\n",
        "            elements = list(map(float, input().split()))\n",
        "            if len(elements) != rows * cols:\n",
        "                raise ValueError(\"Number of elements does not match matrix dimensions\")\n",
        "            matrix = np.array(elements).reshape(rows, cols)\n",
        "            return matrix\n",
        "        except ValueError as e:\n",
        "            print(f\"Invalid input: {e}. Please try again.\")\n",
        "\n",
        "def display_matrix(matrix, name=\"Result\"):\n",
        "    print(f\"\\n{name}:\")\n",
        "    print(matrix)\n",
        "\n",
        "def main():\n",
        "    print(\"Matrix Operations Tool\\n\")\n",
        "    # Input first matrix\n",
        "    A = input_matrix(\"Matrix A\")\n",
        "    while True:\n",
        "        print(\"\\nSelect operation:\")\n",
        "        print(\"1. Addition (A + B)\")\n",
        "        print(\"2. Subtraction (A - B)\")\n",
        "        print(\"3. Multiplication (A * B)\")\n",
        "        print(\"4. Transpose (A^T)\")\n",
        "        print(\"5. Determinant (det(A))\")\n",
        "        print(\"6. Exit\")\n",
        "\n",
        "        choice = input(\"Enter choice (1-6): \")\n",
        "\n",
        "        if choice in ['1', '2', '3']:\n",
        "            B = input_matrix(\"Matrix B\")\n",
        "\n",
        "            if choice == '1':\n",
        "                if A.shape != B.shape:\n",
        "                    print(\"Error: Matrices must have same dimensions for addition.\")\n",
        "                else:\n",
        "                    result = A + B\n",
        "                    display_matrix(result, \"A + B\")\n",
        "\n",
        "            elif choice == '2':\n",
        "                if A.shape != B.shape:\n",
        "                    print(\"Error: Matrices must have same dimensions for subtraction.\")\n",
        "                else:\n",
        "                    result = A - B\n",
        "                    display_matrix(result, \"A - B\")\n",
        "\n",
        "            elif choice == '3':\n",
        "                if A.shape[1] != B.shape[0]:\n",
        "                    print(\"Error: Number of columns of A must equal rows of B for multiplication.\")\n",
        "                else:\n",
        "                    result = np.matmul(A, B)\n",
        "                    display_matrix(result, \"A * B\")\n",
        "\n",
        "        elif choice == '4':\n",
        "            result = np.transpose(A)\n",
        "            display_matrix(result, \"Transpose of A\")\n",
        "\n",
        "        elif choice == '5':\n",
        "            if A.shape[0] != A.shape[1]:\n",
        "                print(\"Error: Determinant can only be calculated for square matrices.\")\n",
        "            else:\n",
        "                det = np.linalg.det(A)\n",
        "                print(f\"Determinant of A: {det:.4f}\")\n",
        "\n",
        "        elif choice == '6':\n",
        "            print(\"Exiting... Goodbye!\")\n",
        "            break\n",
        "\n",
        "        else:\n",
        "            print(\"Invalid input. Please enter a number between 1 and 6.\")\n",
        "\n",
        "if __name__ == \"__main__\":\n",
        "    main()\n"
      ]
    }
  ],
  "metadata": {
    "accelerator": "GPU",
    "colab": {
      "gpuType": "T4",
      "provenance": [],
      "authorship_tag": "ABX9TyOc4TcDARKXA+0D+ogsi3Bf",
      "include_colab_link": true
    },
    "kernelspec": {
      "display_name": "Python 3",
      "name": "python3"
    },
    "language_info": {
      "name": "python"
    }
  },
  "nbformat": 4,
  "nbformat_minor": 0
}